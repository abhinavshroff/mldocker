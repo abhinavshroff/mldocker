{
 "cells": [
  {
   "cell_type": "markdown",
   "metadata": {
    "deletable": true,
    "editable": true
   },
   "source": [
    "# Building Scotch Recommendation API"
   ]
  },
  {
   "cell_type": "code",
   "execution_count": 1,
   "metadata": {
    "collapsed": true,
    "deletable": true,
    "editable": true
   },
   "outputs": [],
   "source": [
    "import pandas as pd\n",
    "import pickle\n",
    "import requests\n",
    "import json"
   ]
  },
  {
   "cell_type": "code",
   "execution_count": 3,
   "metadata": {
    "collapsed": false,
    "deletable": true,
    "editable": true
   },
   "outputs": [],
   "source": [
    "features_df = pd.read_pickle(\"/srv/notebooks/features.dataframe\")"
   ]
  },
  {
   "cell_type": "code",
   "execution_count": 5,
   "metadata": {
    "collapsed": false,
    "deletable": true,
    "editable": true
   },
   "outputs": [],
   "source": [
    "sim_df = pd.read_pickle(\"/srv/notebooks/sims.dataframe\")"
   ]
  },
  {
   "cell_type": "code",
   "execution_count": 6,
   "metadata": {
    "collapsed": false,
    "deletable": true,
    "editable": true
   },
   "outputs": [],
   "source": [
    "features_df = features_df.drop('cluster', axis=1)"
   ]
  },
  {
   "cell_type": "code",
   "execution_count": 7,
   "metadata": {
    "collapsed": true,
    "deletable": true,
    "editable": true
   },
   "outputs": [],
   "source": [
    "REQUEST = json.dumps({\n",
    "    'path' : {},\n",
    "    'args' : {}\n",
    "})"
   ]
  },
  {
   "cell_type": "code",
   "execution_count": 8,
   "metadata": {
    "collapsed": false,
    "deletable": true,
    "editable": true
   },
   "outputs": [
    {
     "name": "stdout",
     "output_type": "stream",
     "text": [
      "{\"names\": [\"Aberfeldy\", \"Aberlour\", \"AnCnoc\", \"Ardbeg\", \"Ardmore\", \"ArranIsleOf\", \"Auchentoshan\", \"Auchroisk\", \"Aultmore\", \"Balblair\", \"Balmenach\", \"Belvenie\", \"BenNevis\", \"Benriach\", \"Benrinnes\", \"Benromach\", \"Bladnoch\", \"BlairAthol\", \"Bowmore\", \"Bruichladdich\", \"Bunnahabhain\", \"Caol Ila\", \"Cardhu\", \"Clynelish\", \"Craigallechie\", \"Craigganmore\", \"Dailuaine\", \"Dalmore\", \"Dalwhinnie\", \"Deanston\", \"Dufftown\", \"Edradour\", \"GlenDeveronMacduff\", \"GlenElgin\", \"GlenGarioch\", \"GlenGrant\", \"GlenKeith\", \"GlenMoray\", \"GlenOrd\", \"GlenScotia\", \"GlenSpey\", \"Glenallachie\", \"Glendronach\", \"Glendullan\", \"Glenfarclas\", \"Glenfiddich\", \"Glengoyne\", \"Glenkinchie\", \"Glenlivet\", \"Glenlossie\", \"Glenmorangie\", \"Glenrothes\", \"Glenturret\", \"Highland Park\", \"Inchgower\", \"Isle of Jura\", \"Knochando\", \"Lagavulin\", \"Laphroig\", \"Linkwood\", \"Loch Lomond\", \"Longmorn\", \"Macallan\", \"Mannochmore\", \"Miltonduff\", \"Mortlach\", \"Oban\", \"OldFettercairn\", \"OldPulteney\", \"RoyalBrackla\", \"RoyalLochnagar\", \"Scapa\", \"Speyburn\", \"Speyside\", \"Springbank\", \"Strathisla\", \"Strathmill\", \"Talisker\", \"Tamdhu\", \"Tamnavulin\", \"Teaninich\", \"Tobermory\", \"Tomatin\", \"Tomintoul\", \"Tormore\", \"Tullibardine\"]}\n"
     ]
    }
   ],
   "source": [
    "# GET /scotches\n",
    "names = sim_df.columns.tolist()\n",
    "print(json.dumps(dict(names=names)))"
   ]
  },
  {
   "cell_type": "code",
   "execution_count": 9,
   "metadata": {
    "collapsed": false,
    "deletable": true,
    "editable": true
   },
   "outputs": [
    {
     "name": "stdout",
     "output_type": "stream",
     "text": [
      "{\"features\":{\"Body\":4,\"Sweetness\":2,\"Smoky\":3,\"Medicinal\":3,\"Tobacco\":0,\"Honey\":1,\"Spicy\":3,\"Winey\":0,\"Nutty\":1,\"Malty\":2,\"Fruity\":2}}\n"
     ]
    }
   ],
   "source": []
  },
  {
   "cell_type": "code",
   "execution_count": 10,
   "metadata": {
    "collapsed": false,
    "deletable": true,
    "editable": true
   },
   "outputs": [
    {
     "name": "stdout",
     "output_type": "stream",
     "text": [
      "{\"recommendations\": [{\"Similarity\": 0.9605849651931131, \"Fruity\": 2, \"Name\": \"Clynelish\", \"Tobacco\": 1, \"Malty\": 1, \"Medicinal\": 3, \"Honey\": 0, \"Nutty\": 1, \"Body\": 3, \"Winey\": 0, \"Smoky\": 3, \"Sweetness\": 2, \"Spicy\": 2}, {\"Similarity\": 0.9484168381883901, \"Fruity\": 1, \"Name\": \"Ardbeg\", \"Tobacco\": 0, \"Malty\": 2, \"Medicinal\": 4, \"Honey\": 0, \"Nutty\": 1, \"Body\": 4, \"Winey\": 0, \"Smoky\": 4, \"Sweetness\": 1, \"Spicy\": 2}, {\"Similarity\": 0.8992710312446166, \"Fruity\": 1, \"Name\": \"Caol Ila\", \"Tobacco\": 1, \"Malty\": 1, \"Medicinal\": 2, \"Honey\": 0, \"Nutty\": 2, \"Body\": 3, \"Winey\": 0, \"Smoky\": 4, \"Sweetness\": 1, \"Spicy\": 2}, {\"Similarity\": 0.8695980950674561, \"Fruity\": 1, \"Name\": \"Lagavulin\", \"Tobacco\": 1, \"Malty\": 1, \"Medicinal\": 4, \"Honey\": 0, \"Nutty\": 1, \"Body\": 4, \"Winey\": 2, \"Smoky\": 4, \"Sweetness\": 1, \"Spicy\": 1}, {\"Similarity\": 0.839754059379345, \"Fruity\": 3, \"Name\": \"Dalmore\", \"Tobacco\": 0, \"Malty\": 2, \"Medicinal\": 1, \"Honey\": 1, \"Nutty\": 1, \"Body\": 3, \"Winey\": 2, \"Smoky\": 2, \"Sweetness\": 2, \"Spicy\": 2}], \"for\": \"Talisker\"}\n"
     ]
    }
   ],
   "source": []
  },
  {
   "cell_type": "code",
   "execution_count": null,
   "metadata": {
    "collapsed": true,
    "deletable": true,
    "editable": true
   },
   "outputs": [],
   "source": []
  }
 ],
 "metadata": {
  "kernelspec": {
   "display_name": "Python 3",
   "language": "python",
   "name": "python3"
  },
  "language_info": {
   "codemirror_mode": {
    "name": "ipython",
    "version": 3
   },
   "file_extension": ".py",
   "mimetype": "text/x-python",
   "name": "python",
   "nbconvert_exporter": "python",
   "pygments_lexer": "ipython3",
   "version": "3.5.2"
  }
 },
 "nbformat": 4,
 "nbformat_minor": 2
}
